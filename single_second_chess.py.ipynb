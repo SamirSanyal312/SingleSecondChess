{
 "cells": [
  {
   "cell_type": "code",
   "execution_count": 3,
   "id": "06e6d473",
   "metadata": {},
   "outputs": [
    {
     "name": "stdout",
     "output_type": "stream",
     "text": [
      "rnbqkbnr/pppppppp/8/8/8/8/PPPPPPPP/RNBQKBNR w KQkq - 0 1\n",
      "g1h3\n"
     ]
    }
   ],
   "source": [
    "import chess\n",
    "import sys\n",
    "\n",
    "def evaluate_board(board):\n",
    "    \"\"\"\n",
    "    Simple evaluation function: calculates material balance.\n",
    "    Positive score favors the current player.\n",
    "    \"\"\"\n",
    "    piece_values = {\n",
    "        chess.PAWN: 1,\n",
    "        chess.KNIGHT: 3,\n",
    "        chess.BISHOP: 3,\n",
    "        chess.ROOK: 5,\n",
    "        chess.QUEEN: 9,\n",
    "        chess.KING: 0,\n",
    "    }\n",
    "\n",
    "    value = 0\n",
    "    for square, piece in board.piece_map().items():\n",
    "        if piece.color == board.turn:  # Favor current player's pieces\n",
    "            value += piece_values[piece.piece_type]\n",
    "        else:\n",
    "            value -= piece_values[piece.piece_type]\n",
    "    return value\n",
    "\n",
    "def get_best_move(fen):\n",
    "    \"\"\"\n",
    "    Generates the best move for a given FEN string.\n",
    "    It evaluates all legal moves and selects the one with the highest score.\n",
    "    \"\"\"\n",
    "    board = chess.Board(fen)\n",
    "\n",
    "    best_move = None\n",
    "    best_value = -float(\"inf\")\n",
    "\n",
    "    for move in board.legal_moves:\n",
    "        board.push(move)\n",
    "        value = evaluate_board(board)\n",
    "        board.pop()\n",
    "\n",
    "        if value > best_value:\n",
    "            best_value = value\n",
    "            best_move = move\n",
    "\n",
    "    return best_move.uci() if best_move else \"0000\"  # \"0000\" for no legal moves (game over)\n",
    "\n",
    "def main():\n",
    "    \"\"\"\n",
    "    Reads FEN from standard input and outputs a move in UCI format.\n",
    "    \"\"\"\n",
    "    # Read FEN from standard input\n",
    "    fen = input().strip()\n",
    "\n",
    "    # Get the best move\n",
    "    best_move = get_best_move(fen)\n",
    "\n",
    "    # Output the move\n",
    "    print(best_move)\n",
    "\n",
    "if __name__ == \"__main__\":\n",
    "    main()\n"
   ]
  },
  {
   "cell_type": "code",
   "execution_count": null,
   "id": "813f17c2",
   "metadata": {},
   "outputs": [],
   "source": []
  }
 ],
 "metadata": {
  "kernelspec": {
   "display_name": "Python 3 (ipykernel)",
   "language": "python",
   "name": "python3"
  },
  "language_info": {
   "codemirror_mode": {
    "name": "ipython",
    "version": 3
   },
   "file_extension": ".py",
   "mimetype": "text/x-python",
   "name": "python",
   "nbconvert_exporter": "python",
   "pygments_lexer": "ipython3",
   "version": "3.9.7"
  }
 },
 "nbformat": 4,
 "nbformat_minor": 5
}
